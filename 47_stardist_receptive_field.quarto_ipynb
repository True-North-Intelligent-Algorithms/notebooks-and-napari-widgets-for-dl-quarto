{
  "cells": [
    {
      "cell_type": "markdown",
      "metadata": {},
      "source": [
        "## Stardist receptive field\n",
        "\n",
        "* region of input that influences output\n",
        "* impacted by striding, kernel size and number of layers\n",
        "\n",
        "## Create a 2D Object\n"
      ],
      "id": "88e8863e"
    },
    {
      "cell_type": "code",
      "metadata": {},
      "source": [
        "import raster_geometry as rg\n",
        "from tnia.plotting.plt_helper import imshow2d\n",
        "import numpy as np\n",
        "import matplotlib.pyplot as plt\n",
        "\n",
        "radius = 75\n",
        "xy_spacing = 1\n",
        "\n",
        "image_size = 256\n",
        "xy_pixels_radius = int(radius / xy_spacing)\n",
        "\n",
        "#print(f'xy_pixels_radius {xy_pixels_radius}')\n",
        "\n",
        "ellipsoid2D = rg.ellipse([image_size, image_size], [xy_pixels_radius, xy_pixels_radius]).astype('uint8')*255\n",
        "\n",
        "fig = imshow2d(ellipsoid2D, 8,8)\n",
        "temp = fig.suptitle('ellipsoid2D')"
      ],
      "id": "cd1305ad",
      "execution_count": null,
      "outputs": []
    },
    {
      "cell_type": "markdown",
      "metadata": {},
      "source": [
        "## Design Stardist 2D Network\n",
        "\n",
        "* Larger grid \n",
        "    * means larger stride thus 'see's' more 1st level\n",
        "* Larger kernel \n",
        "    * see's more each level\n",
        "* More levels\n",
        "    * each level images are downsampled\n",
        "    * kernels at that level process larger spacial region\n",
        "\n",
        "## Empiricaly measure receptive field\n",
        "\n",
        "* see [stardist 3D training example notebook](https://github.com/stardist/stardist/blob/master/examples/3D/2_training.ipynb)\n",
        "* applies the model to a single point\n",
        "* measures how far information - flows\n",
        "    * doesn't matter if the network has been trained\n",
        "    * just interested in information flow\n",
        "\n",
        "# {background-image=\"./stardist-receptive-field.png\"}"
      ],
      "id": "de5dd150"
    }
  ],
  "metadata": {
    "kernelspec": {
      "name": "python3",
      "language": "python",
      "display_name": "Python 3 (ipykernel)",
      "path": "C:\\Users\\bnort\\miniconda3\\envs\\pytorch_and_SAM3\\share\\jupyter\\kernels\\python3"
    }
  },
  "nbformat": 4,
  "nbformat_minor": 5
}