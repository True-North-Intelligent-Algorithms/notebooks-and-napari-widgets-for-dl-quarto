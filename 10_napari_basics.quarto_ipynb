{
  "cells": [
    {
      "cell_type": "markdown",
      "metadata": {},
      "source": [
        "## Napari basics \n",
        "\n",
        "## Why use Napari for DL workflows ?\n",
        "* ROIs\n",
        "* Layers\n",
        "* Labelling tools\n",
        "\n",
        "## Test image \n"
      ],
      "id": "fcacbbdd"
    },
    {
      "cell_type": "code",
      "metadata": {},
      "source": [
        "from skimage.io import imread\n",
        "import os \n",
        "import napari\n",
        "import matplotlib.pyplot as plt\n",
        "import numpy as np\n",
        "\n",
        "data_path = r'./data'\n",
        "parent_path = os.path.join(data_path, 'ladybugs_SAM')\n",
        "img = imread(os.path.join(parent_path, '26638467_41374651.jpg'))\n",
        "plt.imshow(img)"
      ],
      "id": "bb11c053",
      "execution_count": null,
      "outputs": []
    },
    {
      "cell_type": "markdown",
      "metadata": {},
      "source": [
        "## Start Napari and add layers\n"
      ],
      "id": "3316068e"
    },
    {
      "cell_type": "code",
      "metadata": {},
      "source": [
        "#| echo: true\n",
        "#| eval: true \n",
        "viewer = napari.Viewer()\n",
        "\n",
        "labels = np.zeros([img.shape[0], img.shape[1]], dtype=np.uint16)\n",
        "\n",
        "viewer.add_image(img, name='ladybug')\n",
        "viewer.add_labels(labels, name='labels')\n",
        "rois_layer = viewer.add_shapes(face_color='transparent', edge_width=15, edge_color='blue', name='rois')\n",
        "\n",
        "box = [[100,100], [100,800],[800,800], [800,100]]\n",
        "rois_layer.add_rectangles(box)"
      ],
      "id": "d9afb67e",
      "execution_count": null,
      "outputs": []
    },
    {
      "cell_type": "markdown",
      "metadata": {},
      "source": [
        "## Add a cellpose layer\n"
      ],
      "id": "36e9da75"
    },
    {
      "cell_type": "code",
      "metadata": {},
      "source": [
        "#| echo: true\n",
        "#| eval: true \n",
        "from cellpose import models, io\n",
        "model_cyto3 = models.CellposeModel(gpu=True, model_type=\"cyto3\")\n",
        "results = np.zeros([img.shape[0], img.shape[1]], dtype=np.uint16)\n",
        "viewer.add_labels(results, name='cyto3 masks')\n",
        "results = model_cyto3.eval(img, diameter=140)\n",
        "viewer.layers['cyto3 masks'].data = results[0]"
      ],
      "id": "05057fdb",
      "execution_count": null,
      "outputs": []
    },
    {
      "cell_type": "code",
      "metadata": {},
      "source": [
        "screenshot = viewer.screenshot(r'./napari_screenshot.png', canvas_only=False)\n",
        "plt.imshow(screenshot)"
      ],
      "id": "436b12d7",
      "execution_count": null,
      "outputs": []
    },
    {
      "cell_type": "markdown",
      "metadata": {},
      "source": [
        "## Get the ROI and labels we drew in Napari\n"
      ],
      "id": "385f6d0f"
    },
    {
      "cell_type": "code",
      "metadata": {},
      "source": [
        "roi = viewer.layers['rois'].data\n",
        "roi = np.array(roi[0], dtype=np.int16)\n",
        "\n",
        "crop = img[ roi[0][0]:roi[2][0], roi[0][1]:roi[1][1]]\n",
        "crop_label = labels[roi[0][0]:roi[2][0], roi[0][1]:roi[1][1]]\n",
        "                    \n",
        "plt.figure(figsize=(10,5))\n",
        "plt.subplot(1,2,1)\n",
        "plt.imshow(crop)\n",
        "plt.subplot(1,2,2)\n",
        "plt.imshow(crop_label)\n",
        "viewer.close()"
      ],
      "id": "54402917",
      "execution_count": null,
      "outputs": []
    }
  ],
  "metadata": {
    "kernelspec": {
      "name": "python3",
      "language": "python",
      "display_name": "Python 3 (ipykernel)",
      "path": "C:\\Users\\bnort\\miniconda3\\envs\\pytorch_and_SAM3\\share\\jupyter\\kernels\\python3"
    }
  },
  "nbformat": 4,
  "nbformat_minor": 5
}